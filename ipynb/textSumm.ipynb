{
 "cells": [
  {
   "cell_type": "markdown",
   "id": "45d8b17a-ab1d-4211-b8f2-c9aee219b157",
   "metadata": {},
   "source": [
    "## 1. Install and Import Dependencies"
   ]
  },
  {
   "cell_type": "code",
   "execution_count": 2,
   "id": "1ca02401-acea-4bf1-b6bb-0be912116dbd",
   "metadata": {},
   "outputs": [
    {
     "name": "stderr",
     "output_type": "stream",
     "text": [
      "/Users/derek/Documents/Python/Transformers/env/lib/python3.9/site-packages/tqdm/auto.py:22: TqdmWarning: IProgress not found. Please update jupyter and ipywidgets. See https://ipywidgets.readthedocs.io/en/stable/user_install.html\n",
      "  from .autonotebook import tqdm as notebook_tqdm\n"
     ]
    }
   ],
   "source": [
    "from transformers import pipeline"
   ]
  },
  {
   "cell_type": "markdown",
   "id": "86a3c4f6-5311-403a-80eb-b46aa28951e1",
   "metadata": {},
   "source": [
    "## 2. Setup Classifier"
   ]
  },
  {
   "cell_type": "code",
   "execution_count": 3,
   "id": "66e4dece-31c2-4b10-b1a1-e53acbc9b64a",
   "metadata": {},
   "outputs": [
    {
     "name": "stderr",
     "output_type": "stream",
     "text": [
      "No model was supplied, defaulted to sshleifer/distilbart-cnn-12-6 (https://huggingface.co/sshleifer/distilbart-cnn-12-6)\n"
     ]
    }
   ],
   "source": [
    "classifier = pipeline(\"summarization\", model='sshleifer/distilbart-cnn-12-6')"
   ]
  },
  {
   "cell_type": "markdown",
   "id": "96eafe0c-aff2-469a-9ce9-6799f361edde",
   "metadata": {},
   "source": [
    "## 3. Generate Text using Prompt"
   ]
  },
  {
   "cell_type": "code",
   "execution_count": 10,
   "id": "c170eac0-dae4-42f5-a415-331e1cdb7ec1",
   "metadata": {},
   "outputs": [],
   "source": [
    "original_text = \"\"\"\n",
    "The Office is an American mockumentary sitcom television series that depicts the everyday work lives of office employees in the Scranton, Pennsylvania branch of the fictional Dunder Mifflin Paper Company. It aired on NBC from March 24, 2005, to May 16, 2013, spanning a total of nine seasons.[1] Based on the 2001–2003 BBC series of the same name created by Ricky Gervais and Stephen Merchant, it was adapted for American television by Greg Daniels, a veteran writer for Saturday Night Live, King of the Hill, and The Simpsons. It was co-produced by Daniels's Deedle-Dee Productions, and Reveille Productions (later Shine America), in association with Universal Television. The original executive producers were Daniels, Gervais, Merchant, Howard Klein, and Ben Silverman, with numerous others being promoted in later seasons.\n",
    "\n",
    "Like its British counterpart, the series was filmed in a single-camera setup without a studio audience or a laugh track to simulate the look of an actual documentary. The series debuted on NBC as a mid-season replacement and aired 201 episodes for its run. The Office originally featured Steve Carell, Rainn Wilson, John Krasinski, Jenna Fischer, and B. J. Novak as the main cast; however, the series experienced numerous changes to its ensemble cast during its run. Notable stars outside the original main cast include Ed Helms, Amy Ryan, Mindy Kaling, Craig Robinson, James Spader, Ellie Kemper, and Catherine Tate.\n",
    "\n",
    "The Office was met with mixed reviews during its short first season, but the following seasons, particularly those featuring Carell, received significant acclaim from television critics as the show's characters, content, structure, and tone diverged considerably from the British version. These seasons were included on several critics' year-end top TV series lists, winning several awards such as a Peabody Award in 2006, two Screen Actors Guild Awards, a Golden Globe Award for Carell's performance, and four Primetime Emmy Awards, including one for Outstanding Comedy Series, in 2006. The eighth season was criticized for a decline in quality. Many saw Carell's departure in season seven as a contributing factor; however, the ninth and final season ended the series' run with a generally positive response. The series finale, which originally aired on May 16, 2013, was viewed by an estimated 5.69 million viewers and garnered critical acclaim.[2] In 2016, Rolling Stone named The Office one of the 100 greatest television shows of all time.\n",
    "\"\"\""
   ]
  },
  {
   "cell_type": "code",
   "execution_count": 11,
   "id": "2182df8c-864d-4ebd-a2d4-d32487b16bb6",
   "metadata": {},
   "outputs": [],
   "source": [
    "res = classifier(original_text)"
   ]
  },
  {
   "cell_type": "markdown",
   "id": "3e1a2ae1-ab3d-4a6f-a5c3-965cecca0a60",
   "metadata": {},
   "source": [
    "## 4. Output Text"
   ]
  },
  {
   "cell_type": "code",
   "execution_count": 12,
   "id": "10f3f54b-5f33-4388-950c-44660e7cfa93",
   "metadata": {},
   "outputs": [
    {
     "name": "stdout",
     "output_type": "stream",
     "text": [
      " The Office aired on NBC from March 24, 2005, to May 16, 2013, spanning a total of nine seasons . Based on the 2001–2003 BBC series of the same name created by Ricky Gervais and Stephen Merchant, it was adapted for American television by Greg Daniels . The series debuted on NBC as a mid-season replacement and aired 201 episodes .\n"
     ]
    }
   ],
   "source": [
    "print(res[0]['summary_text'])"
   ]
  },
  {
   "cell_type": "code",
   "execution_count": null,
   "id": "4a9303e2-bcdd-4694-873f-a8f46212457e",
   "metadata": {},
   "outputs": [],
   "source": []
  },
  {
   "cell_type": "code",
   "execution_count": null,
   "id": "76c73b1d-b092-4b85-afd4-dfc6edc43f13",
   "metadata": {},
   "outputs": [],
   "source": []
  }
 ],
 "metadata": {
  "kernelspec": {
   "display_name": "Python 3 (ipykernel)",
   "language": "python",
   "name": "python3"
  },
  "language_info": {
   "codemirror_mode": {
    "name": "ipython",
    "version": 3
   },
   "file_extension": ".py",
   "mimetype": "text/x-python",
   "name": "python",
   "nbconvert_exporter": "python",
   "pygments_lexer": "ipython3",
   "version": "3.9.1"
  }
 },
 "nbformat": 4,
 "nbformat_minor": 5
}
