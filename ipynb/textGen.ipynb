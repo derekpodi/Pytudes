{
 "cells": [
  {
   "cell_type": "markdown",
   "id": "806dd7ed-0f47-43f8-9b19-ae43a431d9fc",
   "metadata": {},
   "source": [
    "## 1. Install and Import Dependencies"
   ]
  },
  {
   "cell_type": "code",
   "execution_count": 2,
   "id": "6b85a1cd-61d1-46ae-aa28-72d18d921d91",
   "metadata": {},
   "outputs": [
    {
     "name": "stderr",
     "output_type": "stream",
     "text": [
      "/Users/derek/Documents/Python/Transformers/env/lib/python3.9/site-packages/tqdm/auto.py:22: TqdmWarning: IProgress not found. Please update jupyter and ipywidgets. See https://ipywidgets.readthedocs.io/en/stable/user_install.html\n",
      "  from .autonotebook import tqdm as notebook_tqdm\n"
     ]
    }
   ],
   "source": [
    "from transformers import pipeline"
   ]
  },
  {
   "cell_type": "markdown",
   "id": "6cb318fe-960f-4a26-adff-e119b6930d47",
   "metadata": {},
   "source": [
    "## 2. Setup Generator"
   ]
  },
  {
   "cell_type": "code",
   "execution_count": 4,
   "id": "b67384ee-0f58-47b4-80e7-82b0269a0bd7",
   "metadata": {},
   "outputs": [],
   "source": [
    "generator = pipeline('text-generation', model='EleutherAI/gpt-neo-2.7B') "
   ]
  },
  {
   "cell_type": "markdown",
   "id": "b211c6a2-66d3-4bae-bd1f-eda0c7ee21be",
   "metadata": {},
   "source": [
    "## 3. Generate Text using Prompt"
   ]
  },
  {
   "cell_type": "code",
   "execution_count": 6,
   "id": "88ed003a-ceb5-4c8a-89f9-f9e8046ce944",
   "metadata": {},
   "outputs": [],
   "source": [
    "prompt = \"The current stock market\"   #Change Prompt Here"
   ]
  },
  {
   "cell_type": "code",
   "execution_count": 7,
   "id": "c10f2235-b530-4ac4-b918-63a1f8959a33",
   "metadata": {},
   "outputs": [
    {
     "name": "stderr",
     "output_type": "stream",
     "text": [
      "Setting `pad_token_id` to `eos_token_id`:50256 for open-end generation.\n"
     ]
    }
   ],
   "source": [
    "res = generator(prompt, max_length=50, do_sample=True, temperature=0.9)"
   ]
  },
  {
   "cell_type": "markdown",
   "id": "7a7b5f39-f7e2-45e5-889a-37f62d6c90a7",
   "metadata": {},
   "source": [
    "## 4. Output Text"
   ]
  },
  {
   "cell_type": "code",
   "execution_count": 9,
   "id": "6e826aa6-af54-401e-bb7d-a6118c351cd7",
   "metadata": {},
   "outputs": [
    {
     "name": "stdout",
     "output_type": "stream",
     "text": [
      "The current stock market is the result of the fact that the only things that interest us are those things that interest other people.\n",
      "\n",
      "—Harlan Ellison\n",
      "\n",
      "I've been reading these \"investor\" magazines. And they are always saying\n"
     ]
    }
   ],
   "source": [
    "print(res[0]['generated_text'])"
   ]
  },
  {
   "cell_type": "code",
   "execution_count": 10,
   "id": "e4c641fc-ed91-4950-a522-de5db9e5bfff",
   "metadata": {},
   "outputs": [],
   "source": [
    "#with open('gpttext.txt', 'w') as f:\n",
    "#    f.writelines(res[0]['generated_text'])"
   ]
  },
  {
   "cell_type": "code",
   "execution_count": null,
   "id": "078c4ec5-0f8b-4077-a2b3-5033c2e65a1b",
   "metadata": {},
   "outputs": [],
   "source": []
  }
 ],
 "metadata": {
  "kernelspec": {
   "display_name": "Python 3 (ipykernel)",
   "language": "python",
   "name": "python3"
  },
  "language_info": {
   "codemirror_mode": {
    "name": "ipython",
    "version": 3
   },
   "file_extension": ".py",
   "mimetype": "text/x-python",
   "name": "python",
   "nbconvert_exporter": "python",
   "pygments_lexer": "ipython3",
   "version": "3.9.1"
  }
 },
 "nbformat": 4,
 "nbformat_minor": 5
}
